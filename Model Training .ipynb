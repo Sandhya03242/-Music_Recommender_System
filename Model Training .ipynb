{
 "cells": [
  {
   "cell_type": "code",
   "execution_count": 1,
   "id": "9feac96a-2be9-4237-9bfe-fab906619886",
   "metadata": {},
   "outputs": [],
   "source": [
    "import pandas as pd"
   ]
  },
  {
   "cell_type": "code",
   "execution_count": 2,
   "id": "fe74d2ee-06ae-4716-8d9b-10246a6e25e1",
   "metadata": {},
   "outputs": [],
   "source": [
    "df = pd.read_csv(\"spotify_millsongdata.csv\")"
   ]
  },
  {
   "cell_type": "code",
   "execution_count": 3,
   "id": "d0bef680-fcd2-45b4-a420-b6968f3ad3d8",
   "metadata": {},
   "outputs": [
    {
     "data": {
      "text/html": [
       "<div>\n",
       "<style scoped>\n",
       "    .dataframe tbody tr th:only-of-type {\n",
       "        vertical-align: middle;\n",
       "    }\n",
       "\n",
       "    .dataframe tbody tr th {\n",
       "        vertical-align: top;\n",
       "    }\n",
       "\n",
       "    .dataframe thead th {\n",
       "        text-align: right;\n",
       "    }\n",
       "</style>\n",
       "<table border=\"1\" class=\"dataframe\">\n",
       "  <thead>\n",
       "    <tr style=\"text-align: right;\">\n",
       "      <th></th>\n",
       "      <th>artist</th>\n",
       "      <th>song</th>\n",
       "      <th>link</th>\n",
       "      <th>text</th>\n",
       "    </tr>\n",
       "  </thead>\n",
       "  <tbody>\n",
       "    <tr>\n",
       "      <th>0</th>\n",
       "      <td>ABBA</td>\n",
       "      <td>Ahe's My Kind Of Girl</td>\n",
       "      <td>/a/abba/ahes+my+kind+of+girl_20598417.html</td>\n",
       "      <td>Look at her face, it's a wonderful face  \\r\\nA...</td>\n",
       "    </tr>\n",
       "    <tr>\n",
       "      <th>1</th>\n",
       "      <td>ABBA</td>\n",
       "      <td>Andante, Andante</td>\n",
       "      <td>/a/abba/andante+andante_20002708.html</td>\n",
       "      <td>Take it easy with me, please  \\r\\nTouch me gen...</td>\n",
       "    </tr>\n",
       "    <tr>\n",
       "      <th>2</th>\n",
       "      <td>ABBA</td>\n",
       "      <td>As Good As New</td>\n",
       "      <td>/a/abba/as+good+as+new_20003033.html</td>\n",
       "      <td>I'll never know why I had to go  \\r\\nWhy I had...</td>\n",
       "    </tr>\n",
       "    <tr>\n",
       "      <th>3</th>\n",
       "      <td>ABBA</td>\n",
       "      <td>Bang</td>\n",
       "      <td>/a/abba/bang_20598415.html</td>\n",
       "      <td>Making somebody happy is a question of give an...</td>\n",
       "    </tr>\n",
       "    <tr>\n",
       "      <th>4</th>\n",
       "      <td>ABBA</td>\n",
       "      <td>Bang-A-Boomerang</td>\n",
       "      <td>/a/abba/bang+a+boomerang_20002668.html</td>\n",
       "      <td>Making somebody happy is a question of give an...</td>\n",
       "    </tr>\n",
       "  </tbody>\n",
       "</table>\n",
       "</div>"
      ],
      "text/plain": [
       "  artist                   song                                        link  \\\n",
       "0   ABBA  Ahe's My Kind Of Girl  /a/abba/ahes+my+kind+of+girl_20598417.html   \n",
       "1   ABBA       Andante, Andante       /a/abba/andante+andante_20002708.html   \n",
       "2   ABBA         As Good As New        /a/abba/as+good+as+new_20003033.html   \n",
       "3   ABBA                   Bang                  /a/abba/bang_20598415.html   \n",
       "4   ABBA       Bang-A-Boomerang      /a/abba/bang+a+boomerang_20002668.html   \n",
       "\n",
       "                                                text  \n",
       "0  Look at her face, it's a wonderful face  \\r\\nA...  \n",
       "1  Take it easy with me, please  \\r\\nTouch me gen...  \n",
       "2  I'll never know why I had to go  \\r\\nWhy I had...  \n",
       "3  Making somebody happy is a question of give an...  \n",
       "4  Making somebody happy is a question of give an...  "
      ]
     },
     "execution_count": 3,
     "metadata": {},
     "output_type": "execute_result"
    }
   ],
   "source": [
    "df.head(5)"
   ]
  },
  {
   "cell_type": "code",
   "execution_count": 4,
   "id": "d42ead3e-51c8-44eb-804e-f958a71dfd87",
   "metadata": {},
   "outputs": [
    {
     "data": {
      "text/html": [
       "<div>\n",
       "<style scoped>\n",
       "    .dataframe tbody tr th:only-of-type {\n",
       "        vertical-align: middle;\n",
       "    }\n",
       "\n",
       "    .dataframe tbody tr th {\n",
       "        vertical-align: top;\n",
       "    }\n",
       "\n",
       "    .dataframe thead th {\n",
       "        text-align: right;\n",
       "    }\n",
       "</style>\n",
       "<table border=\"1\" class=\"dataframe\">\n",
       "  <thead>\n",
       "    <tr style=\"text-align: right;\">\n",
       "      <th></th>\n",
       "      <th>artist</th>\n",
       "      <th>song</th>\n",
       "      <th>link</th>\n",
       "      <th>text</th>\n",
       "    </tr>\n",
       "  </thead>\n",
       "  <tbody>\n",
       "    <tr>\n",
       "      <th>57645</th>\n",
       "      <td>Ziggy Marley</td>\n",
       "      <td>Good Old Days</td>\n",
       "      <td>/z/ziggy+marley/good+old+days_10198588.html</td>\n",
       "      <td>Irie days come on play  \\r\\nLet the angels fly...</td>\n",
       "    </tr>\n",
       "    <tr>\n",
       "      <th>57646</th>\n",
       "      <td>Ziggy Marley</td>\n",
       "      <td>Hand To Mouth</td>\n",
       "      <td>/z/ziggy+marley/hand+to+mouth_20531167.html</td>\n",
       "      <td>Power to the workers  \\r\\nMore power  \\r\\nPowe...</td>\n",
       "    </tr>\n",
       "    <tr>\n",
       "      <th>57647</th>\n",
       "      <td>Zwan</td>\n",
       "      <td>Come With Me</td>\n",
       "      <td>/z/zwan/come+with+me_20148981.html</td>\n",
       "      <td>all you need  \\r\\nis something i'll believe  \\...</td>\n",
       "    </tr>\n",
       "    <tr>\n",
       "      <th>57648</th>\n",
       "      <td>Zwan</td>\n",
       "      <td>Desire</td>\n",
       "      <td>/z/zwan/desire_20148986.html</td>\n",
       "      <td>northern star  \\r\\nam i frightened  \\r\\nwhere ...</td>\n",
       "    </tr>\n",
       "    <tr>\n",
       "      <th>57649</th>\n",
       "      <td>Zwan</td>\n",
       "      <td>Heartsong</td>\n",
       "      <td>/z/zwan/heartsong_20148991.html</td>\n",
       "      <td>come in  \\r\\nmake yourself at home  \\r\\ni'm a ...</td>\n",
       "    </tr>\n",
       "  </tbody>\n",
       "</table>\n",
       "</div>"
      ],
      "text/plain": [
       "             artist           song  \\\n",
       "57645  Ziggy Marley  Good Old Days   \n",
       "57646  Ziggy Marley  Hand To Mouth   \n",
       "57647          Zwan   Come With Me   \n",
       "57648          Zwan         Desire   \n",
       "57649          Zwan      Heartsong   \n",
       "\n",
       "                                              link  \\\n",
       "57645  /z/ziggy+marley/good+old+days_10198588.html   \n",
       "57646  /z/ziggy+marley/hand+to+mouth_20531167.html   \n",
       "57647           /z/zwan/come+with+me_20148981.html   \n",
       "57648                 /z/zwan/desire_20148986.html   \n",
       "57649              /z/zwan/heartsong_20148991.html   \n",
       "\n",
       "                                                    text  \n",
       "57645  Irie days come on play  \\r\\nLet the angels fly...  \n",
       "57646  Power to the workers  \\r\\nMore power  \\r\\nPowe...  \n",
       "57647  all you need  \\r\\nis something i'll believe  \\...  \n",
       "57648  northern star  \\r\\nam i frightened  \\r\\nwhere ...  \n",
       "57649  come in  \\r\\nmake yourself at home  \\r\\ni'm a ...  "
      ]
     },
     "execution_count": 4,
     "metadata": {},
     "output_type": "execute_result"
    }
   ],
   "source": [
    "df.tail(5)"
   ]
  },
  {
   "cell_type": "code",
   "execution_count": 5,
   "id": "7936fac1-dffa-4ba8-b77c-15c39ae8a3a1",
   "metadata": {},
   "outputs": [
    {
     "data": {
      "text/plain": [
       "(57650, 4)"
      ]
     },
     "execution_count": 5,
     "metadata": {},
     "output_type": "execute_result"
    }
   ],
   "source": [
    "df.shape"
   ]
  },
  {
   "cell_type": "code",
   "execution_count": 6,
   "id": "c65f63dd-b5fd-4ec7-adac-1dd293c576a4",
   "metadata": {},
   "outputs": [
    {
     "data": {
      "text/plain": [
       "artist    0\n",
       "song      0\n",
       "link      0\n",
       "text      0\n",
       "dtype: int64"
      ]
     },
     "execution_count": 6,
     "metadata": {},
     "output_type": "execute_result"
    }
   ],
   "source": [
    "df.isnull().sum()"
   ]
  },
  {
   "cell_type": "code",
   "execution_count": 7,
   "id": "d687353c-7e05-47b0-9d38-f018f6e5c50e",
   "metadata": {},
   "outputs": [],
   "source": [
    "df =df.sample(5000).drop('link', axis=1).reset_index(drop=True)"
   ]
  },
  {
   "cell_type": "code",
   "execution_count": 8,
   "id": "3fd246a0-930e-4b53-8382-2cdc835bd375",
   "metadata": {},
   "outputs": [
    {
     "data": {
      "text/html": [
       "<div>\n",
       "<style scoped>\n",
       "    .dataframe tbody tr th:only-of-type {\n",
       "        vertical-align: middle;\n",
       "    }\n",
       "\n",
       "    .dataframe tbody tr th {\n",
       "        vertical-align: top;\n",
       "    }\n",
       "\n",
       "    .dataframe thead th {\n",
       "        text-align: right;\n",
       "    }\n",
       "</style>\n",
       "<table border=\"1\" class=\"dataframe\">\n",
       "  <thead>\n",
       "    <tr style=\"text-align: right;\">\n",
       "      <th></th>\n",
       "      <th>artist</th>\n",
       "      <th>song</th>\n",
       "      <th>text</th>\n",
       "    </tr>\n",
       "  </thead>\n",
       "  <tbody>\n",
       "    <tr>\n",
       "      <th>0</th>\n",
       "      <td>Halloween</td>\n",
       "      <td>Trick Or Treat</td>\n",
       "      <td>By Geof Johnson  \\r\\n  \\r\\nThe very best part ...</td>\n",
       "    </tr>\n",
       "    <tr>\n",
       "      <th>1</th>\n",
       "      <td>Bonnie Raitt</td>\n",
       "      <td>Can't Get Enough</td>\n",
       "      <td>Come on so tough  \\r\\nWhen you think you got a...</td>\n",
       "    </tr>\n",
       "    <tr>\n",
       "      <th>2</th>\n",
       "      <td>Elton John</td>\n",
       "      <td>Cottonfields</td>\n",
       "      <td>When I was a little bitty baby  \\r\\nMy Momma d...</td>\n",
       "    </tr>\n",
       "    <tr>\n",
       "      <th>3</th>\n",
       "      <td>Culture Club</td>\n",
       "      <td>Stormkeeper</td>\n",
       "      <td>Ooh I have love sweeter than lies  \\r\\nGave yo...</td>\n",
       "    </tr>\n",
       "    <tr>\n",
       "      <th>4</th>\n",
       "      <td>Alice Cooper</td>\n",
       "      <td>Halo Of Flies</td>\n",
       "      <td>I've got the answers  \\r\\nTo all of your quest...</td>\n",
       "    </tr>\n",
       "    <tr>\n",
       "      <th>5</th>\n",
       "      <td>Billie Holiday</td>\n",
       "      <td>Body And Soul</td>\n",
       "      <td>My days have grown so lonely  \\r\\nFor you I cr...</td>\n",
       "    </tr>\n",
       "    <tr>\n",
       "      <th>6</th>\n",
       "      <td>Kenny Chesney</td>\n",
       "      <td>Keg In The Closet</td>\n",
       "      <td>We had a dog named Bocephus living in the fron...</td>\n",
       "    </tr>\n",
       "    <tr>\n",
       "      <th>7</th>\n",
       "      <td>Bread</td>\n",
       "      <td>Fly Away</td>\n",
       "      <td>Now is the day  \\r\\nWe're on our way  \\r\\nLeav...</td>\n",
       "    </tr>\n",
       "    <tr>\n",
       "      <th>8</th>\n",
       "      <td>Horrible Histories</td>\n",
       "      <td>Blue Bloody Blues</td>\n",
       "      <td>I bet you think the Stuarts were an English dy...</td>\n",
       "    </tr>\n",
       "    <tr>\n",
       "      <th>9</th>\n",
       "      <td>Who</td>\n",
       "      <td>Real Good Looking Boy</td>\n",
       "      <td>When I think back to the  \\r\\nfirst time in my...</td>\n",
       "    </tr>\n",
       "  </tbody>\n",
       "</table>\n",
       "</div>"
      ],
      "text/plain": [
       "               artist                   song  \\\n",
       "0           Halloween         Trick Or Treat   \n",
       "1        Bonnie Raitt       Can't Get Enough   \n",
       "2          Elton John           Cottonfields   \n",
       "3        Culture Club            Stormkeeper   \n",
       "4        Alice Cooper          Halo Of Flies   \n",
       "5      Billie Holiday          Body And Soul   \n",
       "6       Kenny Chesney      Keg In The Closet   \n",
       "7               Bread               Fly Away   \n",
       "8  Horrible Histories      Blue Bloody Blues   \n",
       "9                 Who  Real Good Looking Boy   \n",
       "\n",
       "                                                text  \n",
       "0  By Geof Johnson  \\r\\n  \\r\\nThe very best part ...  \n",
       "1  Come on so tough  \\r\\nWhen you think you got a...  \n",
       "2  When I was a little bitty baby  \\r\\nMy Momma d...  \n",
       "3  Ooh I have love sweeter than lies  \\r\\nGave yo...  \n",
       "4  I've got the answers  \\r\\nTo all of your quest...  \n",
       "5  My days have grown so lonely  \\r\\nFor you I cr...  \n",
       "6  We had a dog named Bocephus living in the fron...  \n",
       "7  Now is the day  \\r\\nWe're on our way  \\r\\nLeav...  \n",
       "8  I bet you think the Stuarts were an English dy...  \n",
       "9  When I think back to the  \\r\\nfirst time in my...  "
      ]
     },
     "execution_count": 8,
     "metadata": {},
     "output_type": "execute_result"
    }
   ],
   "source": [
    "df.head(10)"
   ]
  },
  {
   "cell_type": "code",
   "execution_count": 9,
   "id": "b896128f-3920-43d8-b331-ca21e9126617",
   "metadata": {},
   "outputs": [
    {
     "data": {
      "text/plain": [
       "\"By Geof Johnson  \\r\\n  \\r\\nThe very best part of Halloween  \\r\\nIs getting more candy than you've ever seen.  \\r\\nI've got my scariest costume on.  \\r\\nI scare myself when I'm all alone.  \\r\\n  \\r\\nSun goes down, I'm all dressed up,  \\r\\nI set out to try my luck.  \\r\\nWalkin' up and down the street,  \\r\\nI knock on the door and say...  \\r\\n  \\r\\nTrick or treat, trick or treat, Give me something good to eat.  \\r\\nTrick or treat, trick or treat, Give me something good to eat.  \\r\\n  \\r\\nThe very first house is big and dark,...  \\r\\n  \\r\\nTrick or treat, trick or treat, Give me something good to eat.  \\r\\nTrick or treat, trick or treat, Give me something good to eat.  \\r\\n  \\r\\nThe very next house is big and white,...  \\r\\n  \\r\\nTrick or treat, trick or treat, Give me something good to eat.  \\r\\nTrick or treat, trick or treat, Give me something good to eat.  \\r\\n  \\r\\nIf you go out Halloween night,  \\r\\nI'll give you a tip that'll make it all right.  \\r\\nSmile at everyone that you meet.  \\r\\nKnock on the door and say...  \\r\\n  \\r\\nTrick or treat, trick or treat, Give me something good to eat.  \\r\\nTrick or treat, trick or treat, Give me something good to eat.\\r\\n\\r\\n\""
      ]
     },
     "execution_count": 9,
     "metadata": {},
     "output_type": "execute_result"
    }
   ],
   "source": [
    "df['text'][0]"
   ]
  },
  {
   "cell_type": "code",
   "execution_count": 10,
   "id": "c67c6d7a-99b6-4a3d-89d0-a0c0af04a8e2",
   "metadata": {},
   "outputs": [
    {
     "data": {
      "text/plain": [
       "(5000, 3)"
      ]
     },
     "execution_count": 10,
     "metadata": {},
     "output_type": "execute_result"
    }
   ],
   "source": [
    "df.shape"
   ]
  },
  {
   "cell_type": "markdown",
   "id": "a4580197-5b15-4348-9b53-68a4d27acf42",
   "metadata": {},
   "source": [
    "Text Cleaning/ Text Preprocessing"
   ]
  },
  {
   "cell_type": "code",
   "execution_count": 11,
   "id": "932edf5d-15a4-43eb-8501-d8a9fddc1de5",
   "metadata": {},
   "outputs": [],
   "source": [
    "df['text'] = df['text'].str.lower().replace(r'^\\w\\s', ' ').replace(r'\\n', ' ', regex = True)"
   ]
  },
  {
   "cell_type": "code",
   "execution_count": 12,
   "id": "f2117ffa-43df-448f-aac7-59170241d488",
   "metadata": {},
   "outputs": [],
   "source": [
    "import nltk\n",
    "from nltk.stem.porter import PorterStemmer\n",
    "stemmer = PorterStemmer()\n",
    "\n",
    "def tokenization(txt):\n",
    "    tokens = nltk.word_tokenize(txt)\n",
    "    stemming = [stemmer.stem(w) for w in tokens]\n",
    "    return \" \".join(stemming)"
   ]
  },
  {
   "cell_type": "code",
   "execution_count": 13,
   "id": "c0f7377c-bfa5-49ca-9e5a-2f7d8b7c977c",
   "metadata": {},
   "outputs": [
    {
     "name": "stdout",
     "output_type": "stream",
     "text": [
      "you are beauti , beauti\n"
     ]
    }
   ],
   "source": [
    "print(tokenization('you are beautiful, beauty'))"
   ]
  },
  {
   "cell_type": "code",
   "execution_count": 14,
   "id": "442c8f0f-ac12-4b09-885f-17162dfbe244",
   "metadata": {},
   "outputs": [],
   "source": [
    "df['text'] = df['text'].apply(lambda x: tokenization(x))"
   ]
  },
  {
   "cell_type": "code",
   "execution_count": 15,
   "id": "cb8e9d69-4fbb-4ffa-a352-4f4aaa085693",
   "metadata": {},
   "outputs": [],
   "source": [
    "from sklearn.feature_extraction.text import TfidfVectorizer\n",
    "from sklearn.metrics.pairwise import cosine_similarity"
   ]
  },
  {
   "cell_type": "code",
   "execution_count": 16,
   "id": "69343723-680b-467d-b84e-1b6d84589cae",
   "metadata": {},
   "outputs": [],
   "source": [
    "tfidvector = TfidfVectorizer(analyzer='word',stop_words='english')\n",
    "matrix = tfidvector.fit_transform(df['text'])\n",
    "similarity = cosine_similarity(matrix)"
   ]
  },
  {
   "cell_type": "code",
   "execution_count": 17,
   "id": "207ad85a-a683-4df5-a18a-de83a578e754",
   "metadata": {},
   "outputs": [
    {
     "data": {
      "text/plain": [
       "array([1.        , 0.02532215, 0.01452606, ..., 0.01360091, 0.00181694,\n",
       "       0.00343312])"
      ]
     },
     "execution_count": 17,
     "metadata": {},
     "output_type": "execute_result"
    }
   ],
   "source": [
    "similarity[0]"
   ]
  },
  {
   "cell_type": "code",
   "execution_count": 18,
   "id": "7f52e410-9da2-4f54-881e-7d36addd6077",
   "metadata": {},
   "outputs": [
    {
     "name": "stdout",
     "output_type": "stream",
     "text": [
      "Index of the song: 7\n"
     ]
    }
   ],
   "source": [
    "matching_rows = df[df['song'] == 'Fly Away']\n",
    "\n",
    "if not matching_rows.empty:\n",
    "    idx = matching_rows.index[0]\n",
    "    print(f\"Index of the song: {idx}\")\n",
    "else:\n",
    "    print(\"Song not found in the dataset\")"
   ]
  },
  {
   "cell_type": "code",
   "execution_count": 21,
   "id": "d1224578-a439-4008-a01c-37026a03c0d4",
   "metadata": {},
   "outputs": [],
   "source": [
    "def recommendation(song_name):\n",
    "    idx = df[df['song'] == song_name].index[0]\n",
    "    distances = sorted(list(enumerate(similarity[idx])),reverse=True,key=lambda x:x[1])\n",
    "    \n",
    "    songs = []\n",
    "    for s_id in distances[1:21]:\n",
    "        songs.append(df.iloc[s_id[0]].song)\n",
    "        \n",
    "    return songs"
   ]
  },
  {
   "cell_type": "code",
   "execution_count": 22,
   "id": "29667c0a-c9b0-486e-ab53-ae9c8ef07902",
   "metadata": {},
   "outputs": [
    {
     "data": {
      "text/plain": [
       "[\"I'll Fly Away\",\n",
       " \"Fly Don't Fly On Me\",\n",
       " 'Time Flies',\n",
       " 'Fly',\n",
       " 'I Believe I Can Fly',\n",
       " 'My! My! Time Flies!',\n",
       " 'We Were Born To Fly',\n",
       " 'I Believe I Can Fly',\n",
       " 'Flying To My Home',\n",
       " 'Ready To Fly',\n",
       " \"She's Got Her Ticket\",\n",
       " 'Aces High',\n",
       " 'Fly solo',\n",
       " 'Wind Beneath My Wings',\n",
       " 'All Over Again',\n",
       " 'Never Got Off The Ground',\n",
       " 'I Could Fly',\n",
       " 'Little Bird',\n",
       " 'One Day',\n",
       " 'Fit To Fly']"
      ]
     },
     "execution_count": 22,
     "metadata": {},
     "output_type": "execute_result"
    }
   ],
   "source": [
    "recommendation('Fly Away')"
   ]
  },
  {
   "cell_type": "code",
   "execution_count": 23,
   "id": "5b4f92da-5c7f-4b2e-abf4-db587d29cf06",
   "metadata": {},
   "outputs": [],
   "source": [
    "import pickle\n",
    "pickle.dump(similarity,open('similarity.pkl','wb'))\n",
    "pickle.dump(df,open('df.pkl','wb'))"
   ]
  },
  {
   "cell_type": "code",
   "execution_count": null,
   "id": "7f94c85d-dba4-4e6a-8b45-90cba6aee43d",
   "metadata": {},
   "outputs": [],
   "source": []
  }
 ],
 "metadata": {
  "kernelspec": {
   "display_name": "Python 3 (ipykernel)",
   "language": "python",
   "name": "python3"
  },
  "language_info": {
   "codemirror_mode": {
    "name": "ipython",
    "version": 3
   },
   "file_extension": ".py",
   "mimetype": "text/x-python",
   "name": "python",
   "nbconvert_exporter": "python",
   "pygments_lexer": "ipython3",
   "version": "3.11.3"
  }
 },
 "nbformat": 4,
 "nbformat_minor": 5
}
